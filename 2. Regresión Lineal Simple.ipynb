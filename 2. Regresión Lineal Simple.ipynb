{
 "cells": [
  {
   "cell_type": "markdown",
   "metadata": {},
   "source": [
    "# Lección 2. Regresión Lineal Simple\n",
    "\n",
    "Ejecuta la primera celda de código si no está visible la presentación en Genially."
   ]
  },
  {
   "cell_type": "code",
   "execution_count": 6,
   "metadata": {},
   "outputs": [
    {
     "data": {
      "text/html": [
       "\n",
       "        <iframe\n",
       "            width=\"900\"\n",
       "            height=\"500\"\n",
       "            src=\"https://view.genial.ly/62b44dbd66a53e0018b10e40\"\n",
       "            frameborder=\"0\"\n",
       "            allowfullscreen\n",
       "            \n",
       "        ></iframe>\n",
       "        "
      ],
      "text/plain": [
       "<IPython.lib.display.IFrame at 0x19fd13b4190>"
      ]
     },
     "execution_count": 6,
     "metadata": {},
     "output_type": "execute_result"
    }
   ],
   "source": [
    "import IPython\n",
    "IPython.display.IFrame('https://view.genial.ly/62b44dbd66a53e0018b10e40',900,500)"
   ]
  },
  {
   "cell_type": "markdown",
   "metadata": {},
   "source": [
    "# Bibliotecas\n",
    "\n",
    "Recuerda, una biblioteca es un conjunto de funciones predefinidas que podemos usar en nuestros programas. En esta lección vamos a usar la biblioteca NumPy y Matplotlib.\n",
    "\n",
    "Matplotlib es una biblioteca para la generación de gráficos a partir de datos contenidos en listas o arrays."
   ]
  },
  {
   "cell_type": "code",
   "execution_count": 2,
   "metadata": {},
   "outputs": [],
   "source": [
    "# Importamos las bibliotecas numpy y matplotlib\n",
    "import matplotlib.pyplot as plt\n",
    "import numpy as np"
   ]
  },
  {
   "cell_type": "markdown",
   "metadata": {},
   "source": [
    "# Datos\n",
    "\n",
    "En esta ocasión, tenemos datos estadísticos de 12 estudiantes que corresponden a sus notas de físicas y matemáticas\n",
    "\n"
   ]
  },
  {
   "cell_type": "code",
   "execution_count": 3,
   "metadata": {},
   "outputs": [],
   "source": [
    "x = [2,3,4,4,5,6,6,7,7,8,10,10] # notas de matemáticas en variable x\n",
    "y = [1,3,2,4,4,4,6,4,6,7,9,10] # notas de física en variable y"
   ]
  },
  {
   "cell_type": "markdown",
   "metadata": {},
   "source": [
    "# Nube de puntos\n",
    "\n",
    "Una vez disponemos de los datos, dibujamos la nube de puntos. Esto lo hacemos mediante la función \"scatter\" de la biblioteca matplotlib. Debemos pasarle los datos por parámetro. Podemos nombrar los ejes con las funciones xlabel e ylabel."
   ]
  },
  {
   "cell_type": "code",
   "execution_count": 5,
   "metadata": {},
   "outputs": [
    {
     "data": {
      "image/png": "[encoded data removed]",
      "text/plain": [
       "<Figure size 432x288 with 1 Axes>"
      ]
     },
     "metadata": {
      "needs_background": "light"
     },
     "output_type": "display_data"
    }
   ],
   "source": [
    "# Creamos el gráfico, primero damos nombre a los ejes. X será matemáticas, Y será física\n",
    "plt.xlabel('matemáticas')\n",
    "plt.ylabel(\"física\")\n",
    "# Volcamos los datos en la gráfica con la función scatter\n",
    "plt.scatter(x,y);"
   ]
  },
  {
   "cell_type": "markdown",
   "metadata": {},
   "source": [
    "Podemos observar a simple vista que existe una correlación entre la nota de física y la nota de matemáticas de cada estudiante. Cuanto mejor es la nota de matemáticas de un alumno, mejor es su nota de física. "
   ]
  },
  {
   "cell_type": "markdown",
   "metadata": {},
   "source": [
    "# Centro de gravedad de una distribución bidimensional.\n",
    "\n",
    "Recuerda que la media de una variable X es $\\bar{x} = \\frac {\\sum{x_i}} {n} $\n",
    "\n",
    "Calculamos la media de la variable x y la media de la variable y. Esto nos dará un punto $(\\bar{x},\\bar{y})$ que será el centro de gravedad de nuestra distribución bidimensional."
   ]
  },
  {
   "cell_type": "code",
   "execution_count": 9,
   "metadata": {},
   "outputs": [
    {
     "name": "stdout",
     "output_type": "stream",
     "text": [
      "El centro de gravedad es: ( 6.0 , 5.0 )\n"
     ]
    }
   ],
   "source": [
    "media_x = np.mean(x)\n",
    "media_y = np.mean(y)\n",
    "print(\"El centro de gravedad es: (\", media_x , \",\" , media_y, \")\")"
   ]
  },
  {
   "cell_type": "code",
   "execution_count": 10,
   "metadata": {},
   "outputs": [
    {
     "data": {
      "image/png": "[encoded data removed]",
      "text/plain": [
       "<Figure size 432x288 with 1 Axes>"
      ]
     },
     "metadata": {
      "needs_background": "light"
     },
     "output_type": "display_data"
    }
   ],
   "source": [
    "#Volvemos a mostrar la nube de puntos\n",
    "plt.scatter(x,y)\n",
    "plt.xlabel('matemáticas')\n",
    "plt.ylabel(\"física\")\n",
    "\n",
    "#Podemos pintar sobre nuestra nube de puntos el centro de gravedad mediante la función plot y asignarle el color rojo\n",
    "plt.plot(media_x,media_y,marker=\"o\", color=\"red\")\n",
    "plt.show()"
   ]
  },
  {
   "cell_type": "markdown",
   "metadata": {},
   "source": [
    "# Covarianza\n",
    "\n",
    "La covarianza es una medida de variación conjunta de dos variables respecto a sus medias. Sirve para determinar si existe cierto grado de dependencia entre ambas variables o no. \n",
    "\n",
    "La covarianza de dos variables, x e y, se calcula: $\\sigma_{xy} = \\frac {\\sum{ ({x_i}-\\bar{x})({y_i}-\\bar{y}) }} {n} = \\frac {\\sum{ {x_i} {y_i} }} {n} - \\bar{x} \\bar{y} $\n",
    "\n",
    "En numpy, disponemos de la función para calcular la covarianza np.cov(x, y)\n",
    "\n",
    "La función devuelve una matriz de 4 valores, los cuales son, por posición:\n",
    "\n",
    "[0,0] covarianza (x,x) | [0,1] covazianza (x,y)\n",
    "\n",
    "[1,0] covarianza (y,x) | [1,1] covarianza (y,y)"
   ]
  },
  {
   "cell_type": "code",
   "execution_count": 13,
   "metadata": {},
   "outputs": [
    {
     "name": "stdout",
     "output_type": "stream",
     "text": [
      "Matriz de covarianzas\n",
      "[[6.         5.91666667]\n",
      " [5.91666667 6.66666667]]\n",
      "Covarianza de xy es 5.916666666666666\n"
     ]
    }
   ],
   "source": [
    "# Calculamos la matriz de covarianzas. El parámetro bias=True sirve para indicar a la función que calcule la covarianza sobre N\n",
    "matriz_cov = np.cov(x,y, bias=True)\n",
    "print(\"Matriz de covarianzas\")\n",
    "print(matriz_cov)\n",
    "\n",
    "print(\"Covarianza de xy es\", matriz_cov[0,1])"
   ]
  },
  {
   "cell_type": "markdown",
   "metadata": {},
   "source": [
    "# Correlación \n",
    "\n",
    "El valor de correlación entre dos variables de una distribución bidimensiaonal viene dado por la expresión:\n",
    "\n",
    "$r = \\frac {\\sigma_{xy}} {\\sigma_x \\sigma_y}$\n",
    "\n",
    "El valor de r está comprendido entre -1 y 1:\n",
    "<ul>\n",
    "    <li>Si la correlación es perfecta, esto es, sus puntos están alineados, entonces $|r| = 1$</li>\n",
    "    <li>Si la correlación es fuerte, $|r|$ es próximo a 1.\n",
    "    <li>Si la correlación es débil, $|r|$ es próximo a 0.\n",
    "</ul>"
   ]
  },
  {
   "cell_type": "code",
   "execution_count": 16,
   "metadata": {},
   "outputs": [
    {
     "name": "stdout",
     "output_type": "stream",
     "text": [
      "La correlación de las dos variables es:  0.94\n"
     ]
    }
   ],
   "source": [
    "# Calculamos la correlación entre las variables x e y.\n",
    "# Primero calculamos la covarianza. Recuerda que la función nos devuelve la matriz, nos quedamos con la posición [0,1]\n",
    "covXY=np.cov(x,y, bias=True)[0,1]\n",
    "\n",
    "# Calculamos las desviaciones típicas de x e y.\n",
    "desviacionX = np.std(x)\n",
    "desviacionY = np.std(y)\n",
    "\n",
    "\n",
    "# Calculamos la correlación \n",
    "r= covXY / (desviacionX * desviacionY)\n",
    "\n",
    "# Redondeamos con 2 decimales\n",
    "r = round (r, 2)\n",
    "print(\"La correlación de las dos variables es: \",r)"
   ]
  },
  {
   "cell_type": "markdown",
   "metadata": {},
   "source": [
    "# Regresión Lineal Simple\n",
    "\n",
    "Una rama de la inteligencia artificial y del aprendizaje automático trata de construir modelos basados en unos datos observados para realizar estimaciones. Una de estas técnicas es la Regresión Lineal.\n",
    "\n",
    "Para nuestros datos de ejemplo (notas de matemáticas y física) podemos construir un modelo y hacer estimaciones para preguntarnos ¿cuál será la nota en física si el alumno tiene un 6,5 en matemáticas?\n",
    "\n",
    "Podríamos trazar a ojo una recta que pase lo más cerca posible de todos los puntos. Vamos a trazar sobre nuestra nube de puntos una recta con origen en el punto (0,1) y fin en el punto (10,8) mediante la función plot()\n",
    "\n",
    "Para pintar la recta, la función plot debe recibir dos puntos, origen y fin, de la siguiente manera:\n",
    "plot( [origenX, finX], [origenY, finY], color línea)\n"
   ]
  },
  {
   "cell_type": "code",
   "execution_count": 25,
   "metadata": {},
   "outputs": [
    {
     "data": {
      "image/png": "[encoded data removed]",
      "text/plain": [
       "<Figure size 432x288 with 1 Axes>"
      ]
     },
     "metadata": {
      "needs_background": "light"
     },
     "output_type": "display_data"
    }
   ],
   "source": [
    "# Volvemos a mostrar la nube de puntos\n",
    "plt.scatter(x,y)\n",
    "plt.xlabel('matemáticas')\n",
    "plt.ylabel(\"física\")\n",
    "\n",
    "# Pintamos el centro de gravedad\n",
    "plt.plot(media_x,media_y,marker=\"o\", color=\"red\")\n",
    "\n",
    "# Pintamos la recta\n",
    "plt.plot([0,10],[1,8], color=\"pink\")\n",
    "plt.show()"
   ]
  },
  {
   "cell_type": "markdown",
   "metadata": {},
   "source": [
    "# Recta de regresión: Método de mínimos cuadrados \n",
    "\n",
    "Observamos que la recta dibujada no pasa por el centro de gravedad y quedan muchos puntos por debajo y alejado de la recta. Gracias a la estadística y a las matemáticas, podemos encontrar la recta que mejor se ajusta a los datos. Esto, unido a la capacidad de computación de los ordenadores y a lenguajes como Python, nos permite realizar modelos sobre miles de observaciones que de otra forma sería imposible de analizar.  \n",
    "\n",
    "Recordemos que la ecuación de la recta es $y = A + Bx$\n",
    "\n",
    "De entre todas las rectas posibles ¿cómo podemos saber cuál es la que mejor representa los datos?  \n",
    "\n",
    "Podemos calcular la distancia entre cada punto y una posible recta. Por ejemplo, el punto (10,9), donde el alumno tiene un 10 en matemáticas y un 9 en física. Sin embargo, la recta mostrada anteriormente prevé que para un 10 en la coordenada X, corresponde un 8 en la coordenada Y. Por lo tanto, la distancia, o el error, entre dichos puntos es d = 9-8 = 1.\n",
    "\n",
    "Estos errores pueden ser positivos o negativos, dependiendo de si el punto está por debajo o por encima de la recta. Para eliminar el carácter del signo, se elevan todas las distancias al cuadrado y posteriormente se suman. Esto es lo que se denomina error del modelo: $error = \\sum{d_i^2}$. \n",
    "\n",
    "De entre todas las rectas posibles, nos quedaremos con la recta donde el error sea mínimo. Esto es lo que se denomina Método de los mínimos cuadrados. \n",
    "\n",
    "¿Pero debemos a calcular todas las rectas? Evidentemente no. La recta que hace mínimo el error, llamada recta de regresión de Y sobre X, es: \n",
    "\n",
    "$y = \\bar{y} + \\frac{\\sigma_{xy}} {\\sigma_x^2} (x-\\bar{x})  $\n",
    "\n",
    "\n",
    "Vamos a calcular los valores de y para x=2 (primer valor x), x=6 (media de x) y x=10 (último valor de x)"
   ]
  },
  {
   "cell_type": "code",
   "execution_count": 32,
   "metadata": {},
   "outputs": [
    {
     "name": "stdout",
     "output_type": "stream",
     "text": [
      "Valor de y correspondiente a x=2:  1.06\n",
      "Valor de y correspondiente a x=6:  5.0\n",
      "Valor de y correspondiente a x=10:  8.94\n"
     ]
    }
   ],
   "source": [
    "#Covarianza xy\n",
    "covxy = np.cov(x,y, bias=True)[0,1]\n",
    "\n",
    "#Varianza de x\n",
    "varx = np.var(x)\n",
    "\n",
    "#media de x\n",
    "meanx = np.mean(x)\n",
    "\n",
    "#media de y\n",
    "meany = np.mean(y)\n",
    "\n",
    "#Calculamos y para x=2\n",
    "y1 = meany + (covxy / varx)*(2-meanx)\n",
    "print(\"Valor de y correspondiente a x=2: \", round(y1, 2))\n",
    "\n",
    "\n",
    "#Calculamos y para x=6\n",
    "y2 = meany + (covxy / varx)*(6-meanx)\n",
    "print(\"Valor de y correspondiente a x=6: \", y2)\n",
    "\n",
    "\n",
    "#Calculamos y para x=10\n",
    "y3 = meany + (covxy / varx)*(10-meanx)\n",
    "print(\"Valor de y correspondiente a x=10: \", round(y3, 2))\n"
   ]
  },
  {
   "cell_type": "markdown",
   "metadata": {},
   "source": [
    "Podemos observar que el valor calculado para y siendo x=6 (media de x), coincide con la media de y, dando así la recta su paso por el centro de gravedad.\n",
    "\n",
    "Ahora podemos pintar la recta entre los puntos (2, 1.06) (10, 8.94)"
   ]
  },
  {
   "cell_type": "code",
   "execution_count": 33,
   "metadata": {},
   "outputs": [
    {
     "data": {
      "image/png": "[encoded data removed]",
      "text/plain": [
       "<Figure size 432x288 with 1 Axes>"
      ]
     },
     "metadata": {
      "needs_background": "light"
     },
     "output_type": "display_data"
    }
   ],
   "source": [
    "# Volvemos a mostrar la nube de puntos\n",
    "plt.scatter(x,y)\n",
    "plt.xlabel('matemáticas')\n",
    "plt.ylabel(\"física\")\n",
    "\n",
    "# Pintamos centro de gravedad mediante la función plot y asignamos color rojo\n",
    "plt.plot(media_x,media_y,marker=\"o\", color=\"red\")\n",
    "\n",
    "\n",
    "# Pintamos la recta de regresión\n",
    "plt.plot([2,10],[1.06,8.94], color=\"pink\")\n",
    "plt.show()"
   ]
  },
  {
   "cell_type": "markdown",
   "metadata": {},
   "source": [
    "# Regresión Lineal haciendo uso de NumPy\n",
    "\n",
    "Evidentemente, disponemos de funciones en la biblioteca para hacer lo mismo de forma más directa.\n",
    "\n",
    "Recordemos que la ecuación de la recta es $y = A + Bx$\n",
    "\n",
    "A = Término independiente\n",
    "\n",
    "B = Pendiente\n",
    "\n",
    "La función de la biblioteca numpy.polyfit nos va a calcular tales valores haciendo mínimo el error."
   ]
  },
  {
   "cell_type": "code",
   "execution_count": 35,
   "metadata": {},
   "outputs": [
    {
     "name": "stdout",
     "output_type": "stream",
     "text": [
      "Pendiente:  0.9861111111111112\n",
      "Término independiente:  -0.9166666666666651\n",
      "Ecuación de la recta:  \n",
      "0.9861 x - 0.9167\n",
      "Valores de y correspondientes a x=2, x=10:  [1.05555556 8.94444444]\n"
     ]
    },
    {
     "data": {
      "image/png": "[encoded data removed]",
      "text/plain": [
       "<Figure size 432x288 with 1 Axes>"
      ]
     },
     "metadata": {
      "needs_background": "light"
     },
     "output_type": "display_data"
    }
   ],
   "source": [
    "# Calculamos la pendiente y término independiente con la función polyfit. Pasamos como parámetros los datos. \n",
    "linear_model=np.polyfit(x,y,1)\n",
    "\n",
    "# La función polyfit nos devuelve un vector, en la posición 0 almacena la pendiente, en la posición 1 el término independiente\n",
    "print(\"Pendiente: \",linear_model[0])\n",
    "print(\"Término independiente: \", linear_model[1])\n",
    "\n",
    "# Establecemos el modelo de regresión lineal con los valores calculados.\n",
    "linear_model_fn=np.poly1d(linear_model)\n",
    "print(\"Ecuación de la recta:\", linear_model_fn)\n",
    "\n",
    "#Las coordenadas de x en origen y fin de la recta que vamos a pintar son x=2, x=10, correspondientes a primer y último valor\n",
    "valores_x=[2,10]\n",
    "\n",
    "#Gracias al modelo calculado, obtenemos los puntos de y correspondientes para valores x=2, x=10\n",
    "valores_y =  linear_model_fn(valores_x)\n",
    "print(\"Valores de y correspondientes a x=2, x=10: \", valores_y)\n",
    "\n",
    "\n",
    "# Pintamos la gráfica con los datos\n",
    "plt.scatter(x,y)\n",
    "plt.xlabel(\"matemáticas\")\n",
    "plt.ylabel(\"física\")\n",
    "plt.plot(media_x,media_y,marker=\"o\", color=\"red\")\n",
    "\n",
    "# Pintamos la recta calculada según el modelo\n",
    "plt.plot(valores_x, valores_y, color=\"pink\")\n",
    "plt.show()"
   ]
  },
  {
   "cell_type": "markdown",
   "metadata": {},
   "source": [
    "# Estimaciones\n",
    "\n",
    "Si un alumno obtiene un 6.5 en matemáticas, ¿qué nota en física podemos predecir con nuestro modelo?\n",
    "\n",
    "Podemos usar la ecuación de la recta haciendo uso del término independiente y pendiente calculados anteriormente: $y = -0.9167 + 0.9861 x$ \n",
    "\n",
    "Para $x=6.5$ obtenemos que $y=5.49$ \n",
    "\n",
    "O hacemos uso del modelo creado anteriormente."
   ]
  },
  {
   "cell_type": "code",
   "execution_count": 37,
   "metadata": {},
   "outputs": [
    {
     "name": "stdout",
     "output_type": "stream",
     "text": [
      "Si tengo un 6,5 en matemáticas, la previsión es que saque en física 5.49\n"
     ]
    }
   ],
   "source": [
    "nota_mates = 6.5\n",
    "nota_fisica = linear_model_fn(nota_mates)\n",
    "nota_fisica = round(nota_fisica, 2)\n",
    "print(\"Si tengo un 6,5 en matemáticas, la previsión es que saque en física\", nota_fisica)"
   ]
  },
  {
   "cell_type": "markdown",
   "metadata": {},
   "source": [
    "# Para practicar y evaluar lo aprendido\n",
    "\n",
    "Visualiza la presentación (ejecuta la celda si no está visible) y responde al Quiz ayudándote de la programación en Python"
   ]
  },
  {
   "cell_type": "code",
   "execution_count": 8,
   "metadata": {},
   "outputs": [
    {
     "data": {
      "text/html": [
       "\n",
       "        <iframe\n",
       "            width=\"900\"\n",
       "            height=\"500\"\n",
       "            src=\"https://view.genial.ly/630fa9f808445a0019682c93\"\n",
       "            frameborder=\"0\"\n",
       "            allowfullscreen\n",
       "            \n",
       "        ></iframe>\n",
       "        "
      ],
      "text/plain": [
       "<IPython.lib.display.IFrame at 0x19fd13d5700>"
      ]
     },
     "execution_count": 8,
     "metadata": {},
     "output_type": "execute_result"
    }
   ],
   "source": [
    "import IPython\n",
    "IPython.display.IFrame('https://view.genial.ly/630fa9f808445a0019682c93',900,500)"
   ]
  },
  {
   "cell_type": "code",
   "execution_count": 5,
   "metadata": {},
   "outputs": [
    {
     "name": "stdout",
     "output_type": "stream",
     "text": [
      "Tamaño de y: (442,)\n",
      "Tamaño variable x: (442,)\n"
     ]
    }
   ],
   "source": [
    "# Importamos el dataset, que pertenece a la biblioteca Scikit-Learn\n",
    "from sklearn.datasets import load_diabetes\n",
    "X, y = load_diabetes(return_X_y=True)\n",
    "x=X[:,0]\n",
    "\n",
    "# Variable objetivo 'y' nivel de progresión de diabetes\n",
    "print(\"Tamaño de y:\", y.shape)\n",
    "\n",
    "# Variable 'x' almacena índice masa corporal\n",
    "print(\"Tamaño variable x:\", x.shape)\n",
    "\n",
    "# Sigue el programa a partir de aquí"
   ]
  },
  {
   "cell_type": "code",
   "execution_count": null,
   "metadata": {},
   "outputs": [],
   "source": []
  }
 ],
 "metadata": {
  "kernelspec": {
   "display_name": "Python 3 (ipykernel)",
   "language": "python",
   "name": "python3"
  },
  "language_info": {
   "codemirror_mode": {
    "name": "ipython",
    "version": 3
   },
   "file_extension": ".py",
   "mimetype": "text/x-python",
   "name": "python",
   "nbconvert_exporter": "python",
   "pygments_lexer": "ipython3",
   "version": "3.9.12"
  }
 },
 "nbformat": 4,
 "nbformat_minor": 4
}
