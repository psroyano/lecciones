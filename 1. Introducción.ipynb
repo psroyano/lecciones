{
 "cells": [
  {
   "cell_type": "markdown",
   "metadata": {},
   "source": [
    "# Lección 1. Introducción\n",
    "\n",
    "En esta lección aprenderemos a usar el entorno y a crear programas simples en lenguaje Python. Además, repasaremos conceptos básicos de estadística. \n",
    "\n",
    "La primera celda de código carga la presentación interactiva en Genially, no la edites. Si no está visible, ejecuta la celda haciendo clic en ella y pulsando el botón \"Run\" de la barra de menú. Visualiza la presentación interactiva antes de seguir con el cuaderno."
   ]
  },
  {
   "cell_type": "code",
   "execution_count": 1,
   "metadata": {},
   "outputs": [
    {
     "data": {
      "text/html": [
       "\n",
       "        <iframe\n",
       "            width=\"900\"\n",
       "            height=\"500\"\n",
       "            src=\"https://view.genial.ly/62ac3a808dfae200112dd7f9\"\n",
       "            frameborder=\"0\"\n",
       "            allowfullscreen\n",
       "            \n",
       "        ></iframe>\n",
       "        "
      ],
      "text/plain": [
       "<IPython.lib.display.IFrame at 0x21b181eedc0>"
      ]
     },
     "execution_count": 1,
     "metadata": {},
     "output_type": "execute_result"
    }
   ],
   "source": [
    "import IPython\n",
    "IPython.display.IFrame('https://view.genial.ly/62ac3a808dfae200112dd7f9',900,500)"
   ]
  },
  {
   "cell_type": "markdown",
   "metadata": {},
   "source": [
    "Primeras celdas con Jupyter Notebook. Esta es una celda Markdown, podemos incluir texto, imágenes, código Latex...\n",
    "Las celdas de código están ejecutadas y muestran el resultado, pero se recomienda ir ejecutando el código de nuevo e ir probando con él. "
   ]
  },
  {
   "cell_type": "code",
   "execution_count": 8,
   "metadata": {},
   "outputs": [],
   "source": [
    "# Los comentarios en Python comienzan con el simbolo #\n",
    "# En python no es necesario declarar las variables, simplemente hacemos uso de ellas\n",
    "edad = 17"
   ]
  },
  {
   "cell_type": "markdown",
   "metadata": {},
   "source": [
    "En notebook podemos crear un programa \"por partes\" escribiendo las sentencias a través de una serie de celdas. \n",
    "En la celda anterior hemos asignado a la variable \"edad\" el número entero 17. Esa asignación está disponible en celdas posteriores."
   ]
  },
  {
   "cell_type": "code",
   "execution_count": 52,
   "metadata": {},
   "outputs": [
    {
     "name": "stdout",
     "output_type": "stream",
     "text": [
      "Mi primer mensaje en Python\n",
      "La edad es 17\n"
     ]
    }
   ],
   "source": [
    "# Hacemos uso de un valor asignado a una variable en celda anterior\n",
    "# En python, podemos usar la función \"print\" para visualizar por pantalla ciertos mensajes o resultados. \n",
    "# En ese caso, visualizamos el valor asignado a la variable edad.\n",
    "print(\"Mi primer mensaje en Python\")\n",
    "print(\"La edad es\", edad)"
   ]
  },
  {
   "cell_type": "code",
   "execution_count": 10,
   "metadata": {},
   "outputs": [
    {
     "name": "stdout",
     "output_type": "stream",
     "text": [
      "3\n",
      "4\n",
      "5\n",
      "6\n"
     ]
    }
   ],
   "source": [
    "#Celda de código (python)\n",
    "x = [1,2,3,4]\n",
    "for valor in x:\n",
    "    print(valor+2)"
   ]
  },
  {
   "cell_type": "markdown",
   "metadata": {},
   "source": [
    "# Listas o vectores\n",
    "Hacemos uso del mismo ejemplo de la presentación interactiva, notas de 12 alumnos en matemáticas. Para guardarlos, hacemos uso de un vector. Un vector es una lista de valores separados por ',' (comas) y encerrados entre corchetes. La asignación a una variable se hace de la misma manera que con un valor único.\n",
    "\n",
    "Nuestra variable estadística es x, la cual toma los siguientes valores\n",
    "\n"
   ]
  },
  {
   "cell_type": "code",
   "execution_count": 1,
   "metadata": {},
   "outputs": [
    {
     "name": "stdout",
     "output_type": "stream",
     "text": [
      "[2, 3, 4, 4, 5, 6, 6, 7, 7, 8, 10, 10]\n"
     ]
    }
   ],
   "source": [
    "x = [2,3,4,4,5,6,6,7,7,8,10,10]\n",
    "print(x)"
   ]
  },
  {
   "cell_type": "markdown",
   "metadata": {},
   "source": [
    "# Media aritmética\n",
    "\n",
    "La media de una variable X es $\\bar{x} = \\frac {\\sum{x_i}} {n} $\n",
    "\n",
    "Vamos a calcular la media de forma manual.\n",
    "Para realizar la operación de sumatorio necesitamos recorrer todos los valores del vector e irlos acumulando en una nueva variable. Para recorrer el vector hacemos uso de un bucle for."
   ]
  },
  {
   "cell_type": "code",
   "execution_count": 8,
   "metadata": {},
   "outputs": [
    {
     "name": "stdout",
     "output_type": "stream",
     "text": [
      "La media de la variable x es:  6.0\n"
     ]
    }
   ],
   "source": [
    "# suma_x será la variable donde acumularemos el sumatorio de los valores de x, iniciamos a 0\n",
    "suma_x = 0\n",
    "\n",
    "# El bucle for recorre el vector x. Almacena en cada iteración un valor del vector, desde la posición 0 hasta el final\n",
    "# Almacena cada valor de x en la variable nota\n",
    "for nota in x:\n",
    "    suma_x = nota + suma_x # En suma_x se acumula la suma\n",
    "\n",
    "# Dividimos el sumatorio por el número de elementos y obtenemos la media\n",
    "media = suma_x / 12\n",
    "print(\"La media de la variable x es: \" , media)"
   ]
  },
  {
   "cell_type": "markdown",
   "metadata": {},
   "source": [
    "# Bibliotecas\n",
    "\n",
    "Una biblioteca es un conjunto de funciones predefinidas que podemos usar en nuestros programas. Python dispone de un gran conjunto de bibliotecas que podemos usar libremente para crear nuestros programas de forma rápida y obteniendo un código más legible.\n",
    "\n",
    "\n",
    "Una de ellas es Numpy. Esta biblioteca da soporte para crear vectores y matrices grandes multidimensionales, junto con una gran colección de funciones matemáticas de alto nivel para operar con ellas.\n",
    "\n",
    "Anteriormente hemos calculado la media de la variable x. El cálculo de la media de una variable es una función predefinida de las que dispone la biblioteca numpy. Haciendo uso de ella, obtenemos un programa más rápido y legible."
   ]
  },
  {
   "cell_type": "code",
   "execution_count": 2,
   "metadata": {},
   "outputs": [
    {
     "name": "stdout",
     "output_type": "stream",
     "text": [
      "Calculo de la media de x haciendo uso de numpy.mean es:  6.0\n"
     ]
    }
   ],
   "source": [
    "# Importamos una biblioteca con la sintaxis: import \"nombre biblioteca\" as \"nombre que le damos en nuestro programa para usarla\"\n",
    "import numpy as np\n",
    "\n",
    "# La función para calcular la media es \"mean\", recibe como parámetro la variable.\n",
    "media_x = np.mean(x)\n",
    "print(\"Calculo de la media de x haciendo uso de numpy.mean es: \", media_x)"
   ]
  },
  {
   "cell_type": "markdown",
   "metadata": {},
   "source": [
    "# Desviación típica\n",
    "\n",
    "En estadística, la desviación típica de una variable x es una medida que indica cuanta dispersión existe sobre la media.\n",
    "En nuestra variable X \"nota de matemáticas\" la nota media es 6. ¿Cuánta dispersión existe en los valores sobre la media? ¿Están los datos muy concentrados o muy dispersos? \n",
    "\n",
    "La desviación típica se calcula así $\\sigma_x = \\sqrt{ \\frac {\\sum {({x_i}-\\bar{x}})^2} {n} }$\n",
    "\n",
    "En numpy, disponemos de la función para calcular la desviación estandar. np.std()"
   ]
  },
  {
   "cell_type": "code",
   "execution_count": 13,
   "metadata": {},
   "outputs": [
    {
     "name": "stdout",
     "output_type": "stream",
     "text": [
      "Desviación típica de x: 2.449489742783178\n",
      "Desviación típica de x con dos decimales:  2.45\n"
     ]
    }
   ],
   "source": [
    "# Cálculo de la desviación típica haciendo uso de numpy.std. Debemos pasar por parámetro la variable x.\n",
    "desviacion = np.std(x)\n",
    "\n",
    "# np.std() nos devolverá muchos decimales. Con round(número, decimales) redondeamos el número a los decimales indicados.\n",
    "desviacion_round = round (desviacion, 2)\n",
    "\n",
    "print(\"Desviación típica de x:\", np.std(x))\n",
    "print(\"Desviación típica de x con dos decimales: \", desviacion_round)"
   ]
  },
  {
   "cell_type": "markdown",
   "metadata": {},
   "source": [
    "# Otras funciones estadísticas de Numpy\n",
    "Puedes consultar la guía de las funciones estadísticas https://numpy.org/doc/stable/reference/routines.statistics.html"
   ]
  },
  {
   "cell_type": "code",
   "execution_count": 38,
   "metadata": {},
   "outputs": [
    {
     "name": "stdout",
     "output_type": "stream",
     "text": [
      "Los datos ordenados son: [ 2  3  4  4  5  6  6  7  7  8 10 10]\n",
      "La varianza de x es 6.0\n",
      "La mediana de x es 6.0\n"
     ]
    }
   ],
   "source": [
    "# en este caso, disponemos de los datos pero no están ordenados\n",
    "x = [10,3,4,4,5,6,6,7,7,8,10,2]\n",
    "\n",
    "# Función sort para ordenar los datos\n",
    "x = np.sort(x)\n",
    "print(\"Los datos ordenados son:\", x)\n",
    "\n",
    "# Función var para calcular la varianza\n",
    "print(\"La varianza de x es\", np.var(x))\n",
    "\n",
    "# Función median para calcular la mediana\n",
    "print(\"La mediana de x es\", np.median(x))\n"
   ]
  },
  {
   "cell_type": "markdown",
   "metadata": {},
   "source": [
    "# Para practicar y evaluar lo aprendido\n",
    "\n",
    "Visualiza la presentación (ejecuta la celda si no está visible) y responde al Quiz ayudándote de la programación en Python"
   ]
  },
  {
   "cell_type": "code",
   "execution_count": 51,
   "metadata": {},
   "outputs": [
    {
     "data": {
      "text/html": [
       "\n",
       "        <iframe\n",
       "            width=\"900\"\n",
       "            height=\"500\"\n",
       "            src=\"https://view.genial.ly/62b1a2353381500012dbdc83\"\n",
       "            frameborder=\"0\"\n",
       "            allowfullscreen\n",
       "            \n",
       "        ></iframe>\n",
       "        "
      ],
      "text/plain": [
       "<IPython.lib.display.IFrame at 0x14aca2b2100>"
      ]
     },
     "execution_count": 51,
     "metadata": {},
     "output_type": "execute_result"
    }
   ],
   "source": [
    "import IPython\n",
    "IPython.display.IFrame('https://view.genial.ly/62b1a2353381500012dbdc83',900,500)"
   ]
  },
  {
   "cell_type": "code",
   "execution_count": 53,
   "metadata": {},
   "outputs": [],
   "source": [
    "import numpy as np\n",
    "\n",
    "# Datos estatura de estudiantes\n",
    "x = [1.37, 1.8, 1.65, 1.54, 1.6, 1.67, 1.7, 1.36, 1.71, 1.72,  1.8]\n",
    "\n",
    "# Sigue el programa...\n"
   ]
  },
  {
   "cell_type": "code",
   "execution_count": null,
   "metadata": {},
   "outputs": [],
   "source": []
  }
 ],
 "metadata": {
  "kernelspec": {
   "display_name": "Python 3 (ipykernel)",
   "language": "python",
   "name": "python3"
  },
  "language_info": {
   "codemirror_mode": {
    "name": "ipython",
    "version": 3
   },
   "file_extension": ".py",
   "mimetype": "text/x-python",
   "name": "python",
   "nbconvert_exporter": "python",
   "pygments_lexer": "ipython3",
   "version": "3.9.12"
  }
 },
 "nbformat": 4,
 "nbformat_minor": 4
}
