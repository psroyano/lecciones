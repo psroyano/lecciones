{
 "cells": [
  {
   "cell_type": "markdown",
   "id": "a4e40f98",
   "metadata": {},
   "source": [
    "# Ejercicio lección 1"
   ]
  },
  {
   "cell_type": "code",
   "execution_count": 28,
   "id": "0c24f4f3",
   "metadata": {},
   "outputs": [
    {
     "name": "stdout",
     "output_type": "stream",
     "text": [
      "Mediana: 1.67\n",
      "Media: 1.63\n",
      "Desviación típica: 0.14\n",
      "Suma: 17.919999999999998\n"
     ]
    }
   ],
   "source": [
    "import numpy as np\n",
    "\n",
    "# Datos estatura de estudiantes\n",
    "x = [1.37, 1.8, 1.65, 1.54, 1.6, 1.67, 1.7, 1.36, 1.71, 1.72,  1.8]\n",
    "\n",
    "print(\"Mediana:\", np.median(x))\n",
    "print(\"Media:\", round(np.mean(x), 2))\n",
    "print(\"Desviación típica:\", round(np.std(x), 2))\n",
    "print(\"Suma:\", np.sum(x))"
   ]
  },
  {
   "cell_type": "markdown",
   "id": "82a4720b",
   "metadata": {},
   "source": [
    "# Ejercicio lección 2"
   ]
  },
  {
   "cell_type": "code",
   "execution_count": 2,
   "id": "83cc3c4d",
   "metadata": {},
   "outputs": [
    {
     "data": {
      "image/png": "[encoded data removed]",
      "text/plain": [
       "<Figure size 432x288 with 1 Axes>"
      ]
     },
     "metadata": {
      "needs_background": "light"
     },
     "output_type": "display_data"
    }
   ],
   "source": [
    "# Importamos el dataset, que pertenece a la biblioteca Scikit-Learn y resto de bibliotecas\n",
    "import matplotlib.pyplot as plt\n",
    "import numpy as np\n",
    "from sklearn.datasets import load_diabetes\n",
    "\n",
    "X, y = load_diabetes(return_X_y=True)\n",
    "x=X[:,2]\n",
    "\n",
    "# PREGUNTA 1\n",
    "plt.xlabel('imc')\n",
    "plt.ylabel(\"diabetes\")\n",
    "# Volcamos los datos en la gráfica con la función scatter\n",
    "plt.scatter(x,y);"
   ]
  },
  {
   "cell_type": "code",
   "execution_count": 5,
   "id": "353d30ef",
   "metadata": {},
   "outputs": [
    {
     "name": "stdout",
     "output_type": "stream",
     "text": [
      "El centro de gravedad es: ( -0.0 , 152.1335 )\n",
      "La correlación de las dos variables es:  0.59\n",
      "Ecuación de la recta:  \n",
      "949.4 x + 152.1\n",
      "Con imc 0.002, la previsión es de 154.0324\n"
     ]
    }
   ],
   "source": [
    "# PREGUNTA 2\n",
    "media_x = round(np.mean(x), 4)\n",
    "media_y = round(np.mean(y), 4)\n",
    "print(\"El centro de gravedad es: (\", media_x , \",\" , media_y, \")\")\n",
    "\n",
    "# PREGUNTA 3\n",
    "covXY=np.cov(x,y, bias=True)[0,1]\n",
    "desviacionX = np.std(x)\n",
    "desviacionY = np.std(y)\n",
    "# Calculamos la correlación \n",
    "r= covXY / (desviacionX * desviacionY)\n",
    "# Redondeamos con 2 decimales\n",
    "r = round (r, 2)\n",
    "print(\"La correlación de las dos variables es: \",r)\n",
    "\n",
    "# PREGUNTA 4\n",
    "# Calculamos la pendiente y término independiente con la función polyfit. Pasamos como parámetros los datos. \n",
    "linear_model=np.polyfit(x,y,1)\n",
    "\n",
    "# Establecemos el modelo de regresión lineal con los valores calculados.\n",
    "linear_model_fn=np.poly1d(linear_model)\n",
    "print(\"Ecuación de la recta:\", linear_model_fn)\n",
    "\n",
    "# PREGUNTA 5\n",
    "imc = 0.002\n",
    "diabetes = linear_model_fn(imc)\n",
    "diabetes = round(diabetes, 4)\n",
    "print(\"Con imc 0.002, la previsión es de\", diabetes)"
   ]
  },
  {
   "cell_type": "markdown",
   "id": "b28b9f55",
   "metadata": {},
   "source": [
    "# Ejercicio lección 3"
   ]
  },
  {
   "cell_type": "code",
   "execution_count": 21,
   "id": "fc7ffacc",
   "metadata": {},
   "outputs": [
    {
     "name": "stdout",
     "output_type": "stream",
     "text": [
      "Matriz A: \n",
      " [[3 4]\n",
      " [2 7]] \n",
      "\n",
      "Matriz B: \n",
      " [2 3] \n",
      "\n",
      "Inversa de A: [[ 0.53846154 -0.30769231]\n",
      " [-0.15384615  0.23076923]]\n",
      "Resultado final:  1.4615384615384615\n",
      "w0 =  152.1334841628965\n",
      "Coeficientes: [ -10.01219782 -239.81908937  519.83978679  324.39042769 -792.18416163\n",
      "  476.74583782  101.04457032  177.06417623  751.27932109   67.62538639]\n",
      "Predicción: 68.07\n"
     ]
    }
   ],
   "source": [
    "import numpy as np\n",
    "\n",
    "# PREGUNTA 1\n",
    "A=np.array([[3, 4], [2, 7]])\n",
    "B=np.array([2,3])\n",
    "print(\"Matriz A: \\n\", A, \"\\n\")\n",
    "print(\"Matriz B: \\n\", B, \"\\n\")\n",
    "A_inv = np.linalg.inv(A)\n",
    "print(\"Inversa de A:\", A_inv)\n",
    "print(\"Resultado final: \", B @ A_inv @ B.T)\n",
    "\n",
    "\n",
    "# PREGUNTA 2\n",
    "from sklearn.datasets import load_diabetes\n",
    "from sklearn.linear_model import LinearRegression\n",
    "X, y = load_diabetes(return_X_y=True)\n",
    "\n",
    "# Iniciamos modelo de regresión lineal\n",
    "modelo = LinearRegression()\n",
    "# Entrenamos el modelo con los datos de partida\n",
    "modelo.fit(X,y)\n",
    "\n",
    "# Nuestro modelo ya está creado y listo para usar\n",
    "\n",
    "# En modelo.intercept_ tenemos el valor w0\n",
    "print(\"w0 = \", modelo.intercept_)\n",
    "\n",
    "#PREGUNTA 3\n",
    "# En modelo.coef_ el resto de coeficientes, de w1 a w10\n",
    "print(\"Coeficientes:\", modelo.coef_)\n",
    "\n",
    "\n",
    "# PREGUNTA 4\n",
    "#Para predecir nuevos valores, usamos la función predict(vector)\n",
    "x_nuevo = np.array([[-0.00188202, -0.04464164, -0.05147406, -0.02632783, -0.00844872, -0.01916334, 0.07441156, -0.03949338, -0.06832974, -0.09220405]])\n",
    "y_pred = modelo.predict(x_nuevo)\n",
    "print(\"Predicción:\", round(y_pred[0], 2))"
   ]
  },
  {
   "cell_type": "markdown",
   "id": "44361f24",
   "metadata": {},
   "source": [
    "# Ejercicio lección 4"
   ]
  },
  {
   "cell_type": "code",
   "execution_count": 6,
   "id": "fea1ef66",
   "metadata": {},
   "outputs": [
    {
     "name": "stdout",
     "output_type": "stream",
     "text": [
      "Clases:  ['malignant' 'benign']\n",
      "Atributos: ['mean radius' 'mean texture' 'mean perimeter' 'mean area'\n",
      " 'mean smoothness' 'mean compactness' 'mean concavity'\n",
      " 'mean concave points' 'mean symmetry' 'mean fractal dimension'\n",
      " 'radius error' 'texture error' 'perimeter error' 'area error'\n",
      " 'smoothness error' 'compactness error' 'concavity error'\n",
      " 'concave points error' 'symmetry error' 'fractal dimension error'\n",
      " 'worst radius' 'worst texture' 'worst perimeter' 'worst area'\n",
      " 'worst smoothness' 'worst compactness' 'worst concavity'\n",
      " 'worst concave points' 'worst symmetry' 'worst fractal dimension']\n",
      "\n",
      "Descripción del dataset:\n",
      ".. _breast_cancer_dataset:\n",
      "\n",
      "Breast cancer wisconsin (diagnostic) dataset\n",
      "--------------------------------------------\n",
      "\n",
      "**Data Set Characteristics:**\n",
      "\n",
      "    :Number of Instances: 569\n",
      "\n",
      "    :Number of Attributes: 30 numeric, predictive attributes and the class\n",
      "\n",
      "    :Attribute Information:\n",
      "        - radius (mean of distances from center to points on the perimeter)\n",
      "        - texture (standard deviation of gray-scale values)\n",
      "        - perimeter\n",
      "        - area\n",
      "        - smoothness (local variation in radius lengths)\n",
      "        - compactness (perimeter^2 / area - 1.0)\n",
      "        - concavity (severity of concave portions of the contour)\n",
      "        - concave points (number of concave portions of the contour)\n",
      "        - symmetry\n",
      "        - fractal dimension (\"coastline approximation\" - 1)\n",
      "\n",
      "        The mean, standard error, and \"worst\" or largest (mean of the three\n",
      "        worst/largest values) of these features were computed for each image,\n",
      "        resulting in 30 features.  For instance, field 0 is Mean Radius, field\n",
      "        10 is Radius SE, field 20 is Worst Radius.\n",
      "\n",
      "        - class:\n",
      "                - WDBC-Malignant\n",
      "                - WDBC-Benign\n",
      "\n",
      "    :Summary Statistics:\n",
      "\n",
      "    ===================================== ====== ======\n",
      "                                           Min    Max\n",
      "    ===================================== ====== ======\n",
      "    radius (mean):                        6.981  28.11\n",
      "    texture (mean):                       9.71   39.28\n",
      "    perimeter (mean):                     43.79  188.5\n",
      "    area (mean):                          143.5  2501.0\n",
      "    smoothness (mean):                    0.053  0.163\n",
      "    compactness (mean):                   0.019  0.345\n",
      "    concavity (mean):                     0.0    0.427\n",
      "    concave points (mean):                0.0    0.201\n",
      "    symmetry (mean):                      0.106  0.304\n",
      "    fractal dimension (mean):             0.05   0.097\n",
      "    radius (standard error):              0.112  2.873\n",
      "    texture (standard error):             0.36   4.885\n",
      "    perimeter (standard error):           0.757  21.98\n",
      "    area (standard error):                6.802  542.2\n",
      "    smoothness (standard error):          0.002  0.031\n",
      "    compactness (standard error):         0.002  0.135\n",
      "    concavity (standard error):           0.0    0.396\n",
      "    concave points (standard error):      0.0    0.053\n",
      "    symmetry (standard error):            0.008  0.079\n",
      "    fractal dimension (standard error):   0.001  0.03\n",
      "    radius (worst):                       7.93   36.04\n",
      "    texture (worst):                      12.02  49.54\n",
      "    perimeter (worst):                    50.41  251.2\n",
      "    area (worst):                         185.2  4254.0\n",
      "    smoothness (worst):                   0.071  0.223\n",
      "    compactness (worst):                  0.027  1.058\n",
      "    concavity (worst):                    0.0    1.252\n",
      "    concave points (worst):               0.0    0.291\n",
      "    symmetry (worst):                     0.156  0.664\n",
      "    fractal dimension (worst):            0.055  0.208\n",
      "    ===================================== ====== ======\n",
      "\n",
      "    :Missing Attribute Values: None\n",
      "\n",
      "    :Class Distribution: 212 - Malignant, 357 - Benign\n",
      "\n",
      "    :Creator:  Dr. William H. Wolberg, W. Nick Street, Olvi L. Mangasarian\n",
      "\n",
      "    :Donor: Nick Street\n",
      "\n",
      "    :Date: November, 1995\n",
      "\n",
      "This is a copy of UCI ML Breast Cancer Wisconsin (Diagnostic) datasets.\n",
      "https://goo.gl/U2Uwz2\n",
      "\n",
      "Features are computed from a digitized image of a fine needle\n",
      "aspirate (FNA) of a breast mass.  They describe\n",
      "characteristics of the cell nuclei present in the image.\n",
      "\n",
      "Separating plane described above was obtained using\n",
      "Multisurface Method-Tree (MSM-T) [K. P. Bennett, \"Decision Tree\n",
      "Construction Via Linear Programming.\" Proceedings of the 4th\n",
      "Midwest Artificial Intelligence and Cognitive Science Society,\n",
      "pp. 97-101, 1992], a classification method which uses linear\n",
      "programming to construct a decision tree.  Relevant features\n",
      "were selected using an exhaustive search in the space of 1-4\n",
      "features and 1-3 separating planes.\n",
      "\n",
      "The actual linear program used to obtain the separating plane\n",
      "in the 3-dimensional space is that described in:\n",
      "[K. P. Bennett and O. L. Mangasarian: \"Robust Linear\n",
      "Programming Discrimination of Two Linearly Inseparable Sets\",\n",
      "Optimization Methods and Software 1, 1992, 23-34].\n",
      "\n",
      "This database is also available through the UW CS ftp server:\n",
      "\n",
      "ftp ftp.cs.wisc.edu\n",
      "cd math-prog/cpo-dataset/machine-learn/WDBC/\n",
      "\n",
      ".. topic:: References\n",
      "\n",
      "   - W.N. Street, W.H. Wolberg and O.L. Mangasarian. Nuclear feature extraction \n",
      "     for breast tumor diagnosis. IS&T/SPIE 1993 International Symposium on \n",
      "     Electronic Imaging: Science and Technology, volume 1905, pages 861-870,\n",
      "     San Jose, CA, 1993.\n",
      "   - O.L. Mangasarian, W.N. Street and W.H. Wolberg. Breast cancer diagnosis and \n",
      "     prognosis via linear programming. Operations Research, 43(4), pages 570-577, \n",
      "     July-August 1995.\n",
      "   - W.H. Wolberg, W.N. Street, and O.L. Mangasarian. Machine learning techniques\n",
      "     to diagnose breast cancer from fine-needle aspirates. Cancer Letters 77 (1994) \n",
      "     163-171.\n"
     ]
    }
   ],
   "source": [
    "# Importamos el dataset, que pertenece a la biblioteca Scikit-Learn\n",
    "from sklearn.datasets import load_breast_cancer\n",
    "dataset = load_breast_cancer()\n",
    "\n",
    "# PREGUNTA 1, INFORMACIÓN DEL DATASET\n",
    "# Los nombres de las clases están almacenadas en target_names\n",
    "print(\"Clases: \", dataset.target_names) \n",
    "# Los nombres de los atributos están almacenados en feature_names\n",
    "print(\"Atributos:\", dataset.feature_names) \n",
    "# Podemos mostrar una descripción completa del conjunto de datos\n",
    "print(\"\\nDescripción del dataset:\")\n",
    "print(dataset.DESCR)"
   ]
  },
  {
   "cell_type": "code",
   "execution_count": 9,
   "id": "e208ee70",
   "metadata": {},
   "outputs": [
    {
     "name": "stdout",
     "output_type": "stream",
     "text": [
      "(398, 30)\n",
      "(398,)\n",
      "(171, 30)\n",
      "(171,)\n",
      "Instancias clasificadas 171, número de errores: 13\n",
      "[[ 57   6]\n",
      " [  7 101]]\n",
      "Probabilidad(error|cancer) 9.523809523809524\n"
     ]
    }
   ],
   "source": [
    "# PREGUNTA 2\n",
    "# Para dividir el dataset usamos funciones predefinidas de la biblioteca Scikit-Learn\n",
    "from sklearn.model_selection import train_test_split\n",
    "# Almacenamos el dataset en dos variables. \n",
    "X, y = load_breast_cancer(return_X_y=True)\n",
    "# Dividimos los datos en 2 conjuntos, 30% para test.\n",
    "X_train, X_test, y_train, y_test = train_test_split(X, y, test_size=0.3, random_state=0)\n",
    "print(X_train.shape)\n",
    "print(y_train.shape)\n",
    "print(X_test.shape)\n",
    "print(y_test.shape)\n",
    "\n",
    "# PREGUNTA 3\n",
    "# Importamos el modelo GaussianNB, perteneciente al paquete naive bayes de Scikit-Learn\n",
    "from sklearn.naive_bayes import GaussianNB\n",
    "\n",
    "modeloNB = GaussianNB()\n",
    "\n",
    "# Entrenamos el modelo pasándole los datos de entrenamiento como parámetros\n",
    "modeloNB.fit(X_train, y_train)\n",
    "\n",
    "# Para validar el modelo, vamos a predecir la clase de los datos del conjunto de test\n",
    "y_pred = modeloNB.predict(X_test)\n",
    "\n",
    "# Comparamos la clase predicha con la real y mostramos el número de errores\n",
    "print(\"Instancias clasificadas %d, número de errores: %d\"% (X_test.shape[0], (y_test != y_pred).sum()))\n",
    "\n",
    "# PREGUNTA 4\n",
    "from sklearn.metrics import confusion_matrix\n",
    "\n",
    "#Mostramos por pantalla la matriz de confusión\n",
    "#Pasamos como parámetros los valores reales del conjunto de test y la predicción del modelo\n",
    "print(confusion_matrix(y_test, y_pred))\n",
    "\n",
    "# PREGUNTA 5\n",
    "print(\"Probabilidad(error|cancer)\", 6/(57+6)*100)"
   ]
  }
 ],
 "metadata": {
  "kernelspec": {
   "display_name": "Python 3 (ipykernel)",
   "language": "python",
   "name": "python3"
  },
  "language_info": {
   "codemirror_mode": {
    "name": "ipython",
    "version": 3
   },
   "file_extension": ".py",
   "mimetype": "text/x-python",
   "name": "python",
   "nbconvert_exporter": "python",
   "pygments_lexer": "ipython3",
   "version": "3.9.12"
  }
 },
 "nbformat": 4,
 "nbformat_minor": 5
}
